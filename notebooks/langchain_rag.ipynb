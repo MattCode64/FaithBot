{
 "cells": [
  {
   "cell_type": "code",
   "id": "initial_id",
   "metadata": {
    "collapsed": true,
    "ExecuteTime": {
     "end_time": "2024-04-11T12:26:08.200639Z",
     "start_time": "2024-04-11T12:26:07.747943Z"
    }
   },
   "source": "from langchain_community.llms import Ollama",
   "outputs": [],
   "execution_count": 1
  },
  {
   "metadata": {},
   "cell_type": "markdown",
   "source": [
    "# Ollama\n",
    "\n",
    "Download Llama2 or Mistral : `ollama run llama2` or `ollama run mistral`\n",
    "(Keep the terminal open)\n",
    "\n",
    "Pull the model to your project : `ollama pull llama2` or `ollama pull mistral`"
   ],
   "id": "6db97d2149e5a58f"
  },
  {
   "metadata": {
    "ExecuteTime": {
     "end_time": "2024-04-11T12:26:09.110915Z",
     "start_time": "2024-04-11T12:26:08.943864Z"
    }
   },
   "cell_type": "code",
   "source": [
    "# Load the model, I choose Mistral\n",
    "\n",
    "ollama = Ollama(model=\"mistral\")"
   ],
   "id": "244e8c18ea23abf",
   "outputs": [],
   "execution_count": 2
  },
  {
   "metadata": {
    "ExecuteTime": {
     "end_time": "2024-04-11T12:26:10.467688Z",
     "start_time": "2024-04-11T12:26:10.412607Z"
    }
   },
   "cell_type": "code",
   "source": [
    "from langchain.schema import (\n",
    "    SystemMessage,\n",
    "    HumanMessage,\n",
    "    AIMessage\n",
    ")\n",
    "\n",
    "messages = [\n",
    "    SystemMessage(content=\"Tu es un cuisinier hors pair, tu as pour but de donner des idées de plat à un utilisateur.\"),\n",
    "    HumanMessage(content=\"Salut, comment vas-tu ? Je ne sais pas quoi manger ce soir. J'ai envie de préparer un plat simple et rapide. tu as des idées ?\"),\n",
    "]"
   ],
   "id": "761edfee891d3032",
   "outputs": [],
   "execution_count": 3
  },
  {
   "metadata": {
    "ExecuteTime": {
     "end_time": "2024-04-11T12:28:35.352648Z",
     "start_time": "2024-04-11T12:26:13.810861Z"
    }
   },
   "cell_type": "code",
   "source": "res = ollama.invoke(messages)",
   "id": "a14e900978f7a0e4",
   "outputs": [],
   "execution_count": 4
  },
  {
   "metadata": {
    "ExecuteTime": {
     "end_time": "2024-04-11T12:32:39.452467Z",
     "start_time": "2024-04-11T12:32:39.448820Z"
    }
   },
   "cell_type": "code",
   "source": "print(res)",
   "id": "abfed25de4d1063f",
   "outputs": [
    {
     "name": "stdout",
     "output_type": "stream",
     "text": [
      " Salut! J'ai l'honneur de vous accueillir dans ma cuisine virtuelle. Oui, je peux vous proposer quelques idées simples et rapides pour votre repas ce soir.\n",
      "\n",
      "1) **Pâte sandwiche au jambon et fromage**: Preparez une pâte feuilletée et faites-en des rondels. Placez sur chaque rondel un morceau de jambon cru, une tranche de fromage de chèvre ou de fromage de chalet, puis enroulez chaque rondel dans la pâte. Cuire les sandwiches dans du beurre fondue à feu doux jusqu'à ce qu'ils soient dorés et servir avec une salade verte.\n",
      "\n",
      "2) **Omelette à la provencale**: Ciselez une courgette, une aubergine et un poivron rouge. Faites les revenir légèrement dans de l'huile d'olive. Battez des œufs avec du sel, de la poivre et de la romaine. Faites cuire l'omelette dans une poêle à manche haute et terminez-la en four. Servez-la chaude garnie de la provence aux légumes rôlés.\n",
      "\n",
      "3) **Penne aux tomates cerises**: Faites revenir des tomates cerises avec un morceau d'oignon finement haché et une pincée de poivre du Pérou. Ajoutez des olives noires, des lardons, de la menthe et un filet d'huile d'olive à miettes. Faites cuire tout ça ensemble jusqu'à ce que les tomates soient caramelisées. Servir sur des pennes cuites à l'eau salée.\n",
      "\n",
      "4) **Quiche aux échalotes et aux poires**: Faites cuire une pâte sablée et verser dedans une assiette à quiche. Ciselez deux échalotes finement et les faites revenir à feu doux dans un filet d'huile d'olive. Couvrez la pâte de cette caramelisation d'échalotes, puis ajoutez des tranches de poires bien mures sur le dessus. Enfournez tout ça et servez chaud avec une salade composée de lentilles vertes et de roquette.\n",
      "\n",
      "Je vous souhaite un bon appétit! Quelque chose pour vous régaler ce soir?\n"
     ]
    }
   ],
   "execution_count": 5
  },
  {
   "metadata": {
    "ExecuteTime": {
     "end_time": "2024-04-11T12:32:43.610750Z",
     "start_time": "2024-04-11T12:32:43.608374Z"
    }
   },
   "cell_type": "code",
   "source": [
    "# Append response to messages\n",
    "\n",
    "messages.append(res)"
   ],
   "id": "e45a43f8ede432fd",
   "outputs": [],
   "execution_count": 6
  },
  {
   "metadata": {},
   "cell_type": "markdown",
   "source": "# Prompt Engineering",
   "id": "1b264b1e62a8c10d"
  },
  {
   "metadata": {
    "ExecuteTime": {
     "end_time": "2024-04-11T12:32:45.425940Z",
     "start_time": "2024-04-11T12:32:45.423176Z"
    }
   },
   "cell_type": "code",
   "source": [
    "prompt = HumanMessage(content=\"Cite moi 3 plats français très connus.\")\n",
    "\n",
    "messages.append(prompt)"
   ],
   "id": "32c0ac70d8fb3e3f",
   "outputs": [],
   "execution_count": 7
  },
  {
   "metadata": {
    "ExecuteTime": {
     "end_time": "2024-04-11T12:36:02.110714Z",
     "start_time": "2024-04-11T12:32:54.477083Z"
    }
   },
   "cell_type": "code",
   "source": "res = ollama.invoke(messages)",
   "id": "9290bb1bc03aba4e",
   "outputs": [],
   "execution_count": 8
  },
  {
   "metadata": {
    "ExecuteTime": {
     "end_time": "2024-04-11T12:36:25.175415Z",
     "start_time": "2024-04-11T12:36:25.172881Z"
    }
   },
   "cell_type": "code",
   "source": "print(res)",
   "id": "220a5bf3019d7f8d",
   "outputs": [
    {
     "name": "stdout",
     "output_type": "stream",
     "text": [
      " Certainement! Voici trois plats français très populaires et appréciés :\n",
      "\n",
      "1) **Coq au Vin**: C'est un plat de volaille préparé à base de vin rouge, lardons, oignons, champignons, haricots rouges et gros poivrons. Le coq est mariné dans le vin rouge avant d'être cuit lentement jusqu'à ce qu'il soit tendre et savoureux.\n",
      "\n",
      "2) **Bouillabaisse**: C'est un plat de poissons méditerranéens préparé à base de bouillon de marin et d'épices telles que la tomate, l'aneth, la baie mioule et les ail et oignon hachés. Les poissons utilisés dans ce plat sont traditionnellement les gros poissons de mer comme le congre, le rascasse et le rouget.\n",
      "\n",
      "3) **Crêpes**: Les crêpes sont un plat populaire en France, qu'on peut remplir de nombreuses façons. Elles peuvent être mangées au sucre ou à la saucisse, avec des fruits de mer, des œufs ou du fromage. Les crêpes sont traditionnellement préparées à l'aide d'une grosse planchette et sont cuites sur une surface plate chaude jusqu'à ce qu'elles soient translucides et souples.\n"
     ]
    }
   ],
   "execution_count": 9
  },
  {
   "metadata": {},
   "cell_type": "markdown",
   "source": [
    "---\n",
    "## Load documents"
   ],
   "id": "abd814909c9cda8d"
  },
  {
   "metadata": {
    "ExecuteTime": {
     "end_time": "2024-04-11T14:02:21.880538Z",
     "start_time": "2024-04-11T14:02:21.550826Z"
    }
   },
   "cell_type": "code",
   "source": [
    "from langchain.document_loaders import DirectoryLoader\n",
    "from langchain.schema import Document\n",
    "\n",
    "DATA_PATH = \"/home/matthieu/UbuntuData/PycharmProjects/FaithBot/Bible Data/All Books\""
   ],
   "id": "a7ded8ab57b1788",
   "outputs": [],
   "execution_count": 1
  },
  {
   "metadata": {
    "ExecuteTime": {
     "end_time": "2024-04-11T13:20:01.796075Z",
     "start_time": "2024-04-11T13:20:01.793342Z"
    }
   },
   "cell_type": "code",
   "source": [
    "def load_documents() -> list[Document]:\n",
    "    loader = DirectoryLoader(DATA_PATH, glob=\"*.md\")\n",
    "    documents = loader.load()\n",
    "    print(f\"Loaded {len(documents)} documents\")\n",
    "    print(f\"Load Documents, Done!\")\n",
    "    return documents"
   ],
   "id": "3d8e6a12dc75a431",
   "outputs": [],
   "execution_count": 2
  },
  {
   "metadata": {
    "ExecuteTime": {
     "end_time": "2024-04-11T13:20:01.806326Z",
     "start_time": "2024-04-11T13:20:01.796747Z"
    }
   },
   "cell_type": "code",
   "source": [
    "from langchain.text_splitter import RecursiveCharacterTextSplitter\n",
    "\n",
    "\n",
    "def split_documents(documents: list[Document]):\n",
    "    splitter = RecursiveCharacterTextSplitter(\n",
    "        chunk_size=1000,\n",
    "        chunk_overlap=100,\n",
    "        length_function=len,\n",
    "        add_start_index=True\n",
    "    )\n",
    "\n",
    "    chunks = splitter.split_documents(documents)\n",
    "    print(f\"Number of chunks: {len(chunks)} for {len(documents)} documents\")\n",
    "\n",
    "    document = chunks[3]\n",
    "    print(f\"Page content : {document.page_content}\")\n",
    "    # print(f\"Page number : {document.page_number}\")\n",
    "    print(document.metadata)\n",
    "\n",
    "    print(type(chunks))\n",
    "    print(f\"Split Documents, Done!\")\n",
    "    return chunks"
   ],
   "id": "39063ffe6c3aa10",
   "outputs": [],
   "execution_count": 3
  },
  {
   "metadata": {},
   "cell_type": "markdown",
   "source": "# Vector Storage : Chroma",
   "id": "3aa845cf24858da3"
  },
  {
   "metadata": {
    "ExecuteTime": {
     "end_time": "2024-04-11T14:02:30.982589Z",
     "start_time": "2024-04-11T14:02:27.856577Z"
    }
   },
   "cell_type": "code",
   "source": [
    "from langchain_community.embeddings.huggingface import HuggingFaceEmbeddings\n",
    "\n",
    "# Embedding :\n",
    "embedding_model = \"sentence-transformers/all-MiniLM-L6-v2\"\n",
    "embedding = HuggingFaceEmbeddings(model_name=embedding_model)"
   ],
   "id": "6287908fe3d55ee1",
   "outputs": [],
   "execution_count": 2
  },
  {
   "metadata": {
    "ExecuteTime": {
     "end_time": "2024-04-11T14:02:32.976164Z",
     "start_time": "2024-04-11T14:02:32.971484Z"
    }
   },
   "cell_type": "code",
   "source": [
    "import os\n",
    "import shutil\n",
    "from langchain.vectorstores.chroma import Chroma\n",
    "\n",
    "CHROMA_PATH = \"chroma\""
   ],
   "id": "406a5b81eb194601",
   "outputs": [],
   "execution_count": 3
  },
  {
   "metadata": {
    "ExecuteTime": {
     "end_time": "2024-04-11T13:20:04.777232Z",
     "start_time": "2024-04-11T13:20:04.774073Z"
    }
   },
   "cell_type": "code",
   "source": [
    "def save_to_chroma(chunks: list[Document]):\n",
    "    if os.path.exists(CHROMA_PATH):\n",
    "        shutil.rmtree(CHROMA_PATH)\n",
    "\n",
    "    db = Chroma.from_documents(documents=chunks, embedding=embedding, persist_directory=CHROMA_PATH)\n",
    "    db.persist()\n",
    "\n",
    "    print(f\"Saved {len(chunks)} documents to Chroma {CHROMA_PATH}\")\n",
    "    print(f\"Save to Chroma, Done!\")"
   ],
   "id": "f8edf4b7993a3c46",
   "outputs": [],
   "execution_count": 6
  },
  {
   "metadata": {
    "ExecuteTime": {
     "end_time": "2024-04-11T13:20:04.782323Z",
     "start_time": "2024-04-11T13:20:04.778209Z"
    }
   },
   "cell_type": "code",
   "source": [
    "def generate_database():\n",
    "    documents = load_documents()\n",
    "    chunks = split_documents(documents)\n",
    "    save_to_chroma(chunks)"
   ],
   "id": "bcc3cd4f5634ef9c",
   "outputs": [],
   "execution_count": 7
  },
  {
   "metadata": {
    "ExecuteTime": {
     "end_time": "2024-04-11T13:23:32.810456Z",
     "start_time": "2024-04-11T13:20:04.783247Z"
    }
   },
   "cell_type": "code",
   "source": "generate_database()",
   "id": "d8ea9cff748dccbc",
   "outputs": [
    {
     "name": "stdout",
     "output_type": "stream",
     "text": [
      "Loaded 1255 documents\n",
      "Load Documents, Done!\n",
      "Number of chunks: 5334 for 1255 documents\n",
      "Page content : v20\n",
      "\n",
      "\"'Everything that she lies on in her impurity shall be unclean. Everything also that she sits on shall be unclean.\n",
      "\n",
      "v21\n",
      "\n",
      "Whoever touches her bed shall wash his clothes, and bathe himself in water, and be unclean until the evening.\n",
      "\n",
      "v22\n",
      "\n",
      "Whoever touches anything that she sits on shall wash his clothes, and bathe himself in water, and be unclean until the evening.\n",
      "\n",
      "v23\n",
      "\n",
      "If it is on the bed, or on anything she sits on, when he touches it, he shall be unclean until the evening.\n",
      "\n",
      "v24\n",
      "\n",
      "\"'If any man lies with her, and her monthly flow is on him, he shall be unclean seven days; and every bed he lies on shall be unclean.\n",
      "\n",
      "v25\n",
      "\n",
      "\"'If a woman has a discharge of her blood many days not in the time of her period, or if she has a discharge beyond the time of her period, all the days of the discharge of her uncleanness shall be as in the days of her period. She is unclean.\n",
      "\n",
      "v26\n",
      "{'source': '/home/matthieu/UbuntuData/PycharmProjects/FaithBot/Bible Data/All Books/Lev-15.md', 'start_index': 2841}\n",
      "<class 'list'>\n",
      "Split Documents, Done!\n",
      "Saved 5334 documents to Chroma chroma\n",
      "Save to Chroma, Done!\n"
     ]
    }
   ],
   "execution_count": 8
  },
  {
   "metadata": {},
   "cell_type": "markdown",
   "source": [
    "---\n",
    "## Querying Chroma"
   ],
   "id": "65fbb436cec49652"
  },
  {
   "metadata": {
    "ExecuteTime": {
     "end_time": "2024-04-11T14:05:11.241049Z",
     "start_time": "2024-04-11T14:05:08.589373Z"
    }
   },
   "cell_type": "code",
   "source": [
    "import argparse\n",
    "from dataclasses import dataclass\n",
    "from langchain_community.llms import Ollama\n",
    "from langchain.vectorstores.chroma import Chroma\n",
    "from langchain.prompts import ChatPromptTemplate\n",
    "from langchain.schema import HumanMessage\n",
    "from langchain_community.embeddings.huggingface import HuggingFaceEmbeddings\n",
    "\n",
    "CHROMA_PATH = \"chroma\"\n",
    "\n",
    "PROMPT_TEMPLATE = \"\"\"\n",
    "Answer the question based only on the following context:\n",
    "\n",
    "{context}\n",
    "\n",
    "---\n",
    "\n",
    "Answer the question based on the above context: {question}\n",
    "\"\"\"\n",
    "\n",
    "\n",
    "# Embedding :\n",
    "embedding_model = \"sentence-transformers/all-MiniLM-L6-v2\"\n",
    "embedding = HuggingFaceEmbeddings(model_name=embedding_model)"
   ],
   "id": "790d2c2651d33322",
   "outputs": [],
   "execution_count": 10
  },
  {
   "metadata": {
    "ExecuteTime": {
     "end_time": "2024-04-11T14:05:21.640516Z",
     "start_time": "2024-04-11T14:05:21.635838Z"
    }
   },
   "cell_type": "code",
   "source": [
    "def query_chroma(query_text: str):\n",
    "    db = Chroma(persist_directory=CHROMA_PATH, embedding_function=embedding)\n",
    "\n",
    "    # Search in the database\n",
    "    results = db.similarity_search_with_relevance_scores(query_text)\n",
    "    # print(results)\n",
    "    if len(results) == 0 or results[0][1] < 0.2:\n",
    "        print(\"No relevant results found\")\n",
    "        return\n",
    "    \n",
    "    context_text = \"\\n\\n---\\n\\n\".join([doc.page_content for doc, _score in results])\n",
    "    \n",
    "    prompt_template = ChatPromptTemplate.from_template(PROMPT_TEMPLATE)\n",
    "    user_prompt = prompt_template.format(context=context_text, question=query_text)\n",
    "    print(f\"Prompt: {user_prompt}\")\n",
    "    \n",
    "    model = Ollama(model=\"mistral\")\n",
    "    response_text = model.invoke([HumanMessage(content=user_prompt)])\n",
    "    \n",
    "    sources = [doc.metadata[\"source\"] for doc, _score in results]\n",
    "    formatted_response = f\"Response : {response_text}\\nSources : {sources}\"\n",
    "    print(formatted_response)\n",
    "    "
   ],
   "id": "a4fc9e91aff76438",
   "outputs": [],
   "execution_count": 13
  },
  {
   "metadata": {
    "ExecuteTime": {
     "end_time": "2024-04-11T14:14:49.609579Z",
     "start_time": "2024-04-11T14:11:40.083093Z"
    }
   },
   "cell_type": "code",
   "source": "query_chroma(\"How Noah's boat was made ?\")",
   "id": "51a0841dd5e32777",
   "outputs": [
    {
     "name": "stdout",
     "output_type": "stream",
     "text": [
      "Prompt: Human: \n",
      "Answer the question based only on the following context:\n",
      "\n",
      "v8\n",
      "\n",
      "Clean animals, unclean animals, birds, and everything that creeps on the ground\n",
      "\n",
      "v9\n",
      "\n",
      "went by pairs to Noah into the ship, male and female, as God commanded Noah.\n",
      "\n",
      "v10\n",
      "\n",
      "After the seven days, the floodwaters came on the earth.\n",
      "\n",
      "v11\n",
      "\n",
      "In the six hundredth year of Noah's life, in the second month, on the seventeenth day of the month, on that day all the fountains of the great deep burst open, and the sky's windows opened.\n",
      "\n",
      "v12\n",
      "\n",
      "It rained on the earth forty days and forty nights.\n",
      "\n",
      "v13\n",
      "\n",
      "In the same day Noah, and Shem, Ham, and Japheth--the sons of Noah--and Noah's wife and the three wives of his sons with them, entered into the ship--\n",
      "\n",
      "v14\n",
      "\n",
      "they, and every animal after its kind, all the livestock after their kind, every creeping thing that creeps on the earth after its kind, and every bird after its kind, every bird of every sort.\n",
      "\n",
      "v15\n",
      "\n",
      "Pairs from all flesh with the breath of life in them went into the ship to Noah.\n",
      "\n",
      "v16\n",
      "\n",
      "---\n",
      "\n",
      "Genesis 8\n",
      "\n",
      "[[Gen-07|â Genesis 07]] | [[Genesis]] | [[Gen-09|Genesis 09 â’]]\n",
      "\n",
      "v1\n",
      "\n",
      "God remembered Noah, all the animals, and all the livestock that were with him in the ship; and God made a wind to pass over the earth. The waters subsided.\n",
      "\n",
      "v2\n",
      "\n",
      "The deep's fountains and the sky's windows were also stopped, and the rain from the sky was restrained.\n",
      "\n",
      "v3\n",
      "\n",
      "The waters continually receded from the earth. After the end of one hundred fifty days the waters receded.\n",
      "\n",
      "v4\n",
      "\n",
      "The ship rested in the seventh month, on the seventeenth day of the month, on Ararat's mountains.\n",
      "\n",
      "v5\n",
      "\n",
      "The waters receded continually until the tenth month. In the tenth month, on the first day of the month, the tops of the mountains were visible.\n",
      "\n",
      "v6\n",
      "\n",
      "At the end of forty days, Noah opened the window of the ship which he had made,\n",
      "\n",
      "v7\n",
      "\n",
      "and he sent out a raven. It went back and forth, until the waters were dried up from the earth.\n",
      "\n",
      "v8\n",
      "\n",
      "He himself sent out a dove to see if the waters were abated from the surface of the ground,\n",
      "\n",
      "---\n",
      "\n",
      "v8\n",
      "\n",
      "He himself sent out a dove to see if the waters were abated from the surface of the ground,\n",
      "\n",
      "v9\n",
      "\n",
      "but the dove found no place to rest her foot, and she returned into the ship to him, for the waters were on the surface of the whole earth. He put out his hand, and took her, and brought her to him into the ship.\n",
      "\n",
      "v10\n",
      "\n",
      "He waited yet another seven days; and again he sent the dove out of the ship.\n",
      "\n",
      "v11\n",
      "\n",
      "The dove came back to him at evening and, behold, in her mouth was a freshly plucked olive leaf. So Noah knew that the waters were abated from the earth.\n",
      "\n",
      "v12\n",
      "\n",
      "He waited yet another seven days, and sent out the dove; and she didn't return to him any more.\n",
      "\n",
      "v13\n",
      "\n",
      "In the six hundred first year, in the first month, the first day of the month, the waters were dried up from the earth. Noah removed the covering of the ship, and looked. He saw that the surface of the ground was dry.\n",
      "\n",
      "v14\n",
      "\n",
      "In the second month, on the twenty-seventh day of the month, the earth was dry.\n",
      "\n",
      "v15\n",
      "\n",
      "---\n",
      "\n",
      "v6\n",
      "\n",
      "Yahweh was sorry that he had made man on the earth, and it grieved him in his heart.\n",
      "\n",
      "v7\n",
      "\n",
      "Yahweh said, \"I will destroy man whom I have created from the surface of the ground--man, along with animals, creeping things, and birds of the sky--for I am sorry that I have made them.\"\n",
      "\n",
      "v8\n",
      "\n",
      "But Noah found favor in Yahweh's eyes.\n",
      "\n",
      "v9\n",
      "\n",
      "This is the history of the generations of Noah: Noah was a righteous man, blameless among the people of his time. Noah walked with God.\n",
      "\n",
      "v10\n",
      "\n",
      "Noah became the father of three sons: Shem, Ham, and Japheth.\n",
      "\n",
      "v11\n",
      "\n",
      "The earth was corrupt before God, and the earth was filled with violence.\n",
      "\n",
      "v12\n",
      "\n",
      "God saw the earth, and saw that it was corrupt, for all flesh had corrupted their way on the earth.\n",
      "\n",
      "v13\n",
      "\n",
      "God said to Noah, \"I will bring an end to all flesh, for the earth is filled with violence through them. Behold, I will destroy them and the earth.\n",
      "\n",
      "v14\n",
      "\n",
      "Make a ship of gopher wood. You shall make rooms in the ship, and shall seal it inside and outside with pitch.\n",
      "\n",
      "v15\n",
      "\n",
      "---\n",
      "\n",
      "Answer the question based on the above context: How Noah's boat was made ?\n",
      "\n",
      "Response :  According to the context provided in Genesis 6:14, God instructed Noah to build a large boat, or ark, using gopher wood. He was also told to make rooms in the boat and seal it both inside and outside with pitch for waterproofing. This instruction was given as part of God's plan to save Noah, his family, and a selection of animals from the coming flood. The building process is not detailed further in the text.\n",
      "Sources : ['/home/matthieu/UbuntuData/PycharmProjects/FaithBot/Bible Data/All Books/Gen-07.md', '/home/matthieu/UbuntuData/PycharmProjects/FaithBot/Bible Data/All Books/Gen-08.md', '/home/matthieu/UbuntuData/PycharmProjects/FaithBot/Bible Data/All Books/Gen-08.md', '/home/matthieu/UbuntuData/PycharmProjects/FaithBot/Bible Data/All Books/Gen-06.md']\n"
     ]
    }
   ],
   "execution_count": 15
  },
  {
   "metadata": {},
   "cell_type": "code",
   "outputs": [],
   "execution_count": null,
   "source": "",
   "id": "45df7bfaaf2499a7"
  }
 ],
 "metadata": {
  "kernelspec": {
   "display_name": "Python 3",
   "language": "python",
   "name": "python3"
  },
  "language_info": {
   "codemirror_mode": {
    "name": "ipython",
    "version": 2
   },
   "file_extension": ".py",
   "mimetype": "text/x-python",
   "name": "python",
   "nbconvert_exporter": "python",
   "pygments_lexer": "ipython2",
   "version": "2.7.6"
  }
 },
 "nbformat": 4,
 "nbformat_minor": 5
}
